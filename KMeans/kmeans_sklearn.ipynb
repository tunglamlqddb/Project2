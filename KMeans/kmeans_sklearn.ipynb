{
 "cells": [
  {
   "cell_type": "code",
   "execution_count": 3,
   "metadata": {},
   "outputs": [],
   "source": [
    "import numpy as np\n",
    "from collections import defaultdict"
   ]
  },
  {
   "cell_type": "code",
   "execution_count": 1,
   "metadata": {},
   "outputs": [],
   "source": [
    "def get_data(data_path):\n",
    "    with open(data_path, 'r') as f:\n",
    "        lines = f.read().splitlines()\n",
    "    X = []\n",
    "    Y = []\n",
    "    for line in lines:    # one doc\n",
    "        single_dict = defaultdict(lambda:0)\n",
    "        raw_X = line.split('<fff>')[-1]\n",
    "        for pair in raw_X.split():\n",
    "            idx = pair.split(':')[0]\n",
    "            value = pair.split(':')[1]\n",
    "            single_dict[int(idx)] = float(value)\n",
    "            \n",
    "        X.append(single_dict)\n",
    "        Y.append(float(line.split('<fff>')[0]))\n",
    "    return X, Y"
   ]
  },
  {
   "cell_type": "code",
   "execution_count": 4,
   "metadata": {},
   "outputs": [],
   "source": [
    "X_train, Y_train = get_data(\"D:\\\\movedFromC\\\\123\\\\20192\\\\PRJ2\\\\Project2\\\\words_tfidfs.txt\")"
   ]
  },
  {
   "cell_type": "code",
   "execution_count": 35,
   "metadata": {},
   "outputs": [
    {
     "data": {
      "text/plain": [
       "list"
      ]
     },
     "execution_count": 35,
     "metadata": {},
     "output_type": "execute_result"
    }
   ],
   "source": [
    "type(Y_train)"
   ]
  },
  {
   "cell_type": "code",
   "execution_count": 5,
   "metadata": {},
   "outputs": [],
   "source": [
    "X_test, Y_test = get_data(\"D:\\\\movedFromC\\\\123\\\\20192\\\\PRJ2\\\\Project2\\\\words_tfidfs_test.txt\")"
   ]
  },
  {
   "cell_type": "code",
   "execution_count": 6,
   "metadata": {},
   "outputs": [],
   "source": [
    "import scipy.sparse as sp\n",
    "\n",
    "def convert_to_csr(X_dict, num_of_features):\n",
    "    X_mat = sp.dok_matrix((len(X_dict), num_of_features), dtype=np.float)\n",
    "    for i in range(len(X_dict)):\n",
    "        for key in X_dict[i].keys():\n",
    "            X_mat[i, key] = X_dict[i][key]\n",
    "    X_mat = X_mat.tocsr()\n",
    "\n",
    "    return X_mat"
   ]
  },
  {
   "cell_type": "code",
   "execution_count": 7,
   "metadata": {},
   "outputs": [],
   "source": [
    "X_train_mat = convert_to_csr(X_train, 10272)"
   ]
  },
  {
   "cell_type": "code",
   "execution_count": 41,
   "metadata": {},
   "outputs": [],
   "source": [
    "X_test_mat = convert_to_csr(X_test, 10272)"
   ]
  },
  {
   "cell_type": "code",
   "execution_count": 42,
   "metadata": {},
   "outputs": [
    {
     "data": {
      "text/plain": [
       "(7532, 10272)"
      ]
     },
     "execution_count": 42,
     "metadata": {},
     "output_type": "execute_result"
    }
   ],
   "source": [
    "X_test_mat.shape"
   ]
  },
  {
   "cell_type": "code",
   "execution_count": 46,
   "metadata": {},
   "outputs": [],
   "source": [
    "from sklearn.cluster import KMeans\n",
    "kmeans = KMeans(n_clusters = 20,\n",
    "               init = 'k-means++',\n",
    "               n_init = 5,\n",
    "               tol = 1e-3,\n",
    "               random_state = 2018\n",
    "               ).fit(X_train_mat)"
   ]
  },
  {
   "cell_type": "code",
   "execution_count": 30,
   "metadata": {},
   "outputs": [
    {
     "data": {
      "text/plain": [
       "(array([   45,   783,   795,   805,   861,   872,   873,   876,   883,\n",
       "          899,   915,   959,  1030,  1049,  1127,  1208,  1266,  1328,\n",
       "         1333,  1389,  1392,  1404,  1436,  1458,  1459,  1466,  1534,\n",
       "         1565,  1631,  1692,  1693,  1803,  1826,  1851,  2055,  2140,\n",
       "         2168,  2523,  2524,  2542,  2662,  2784,  2834,  2905,  2975,\n",
       "         3021,  3073,  3086,  3121,  3336,  3337,  3474,  3738,  3941,\n",
       "         4128,  4228,  4744,  4751,  4752,  4761,  4923,  4929,  4930,\n",
       "         5049,  5050,  5433,  5555,  5832,  5843,  7009,  7012,  7016,\n",
       "         7017,  7108,  7115,  7147,  7186,  7261,  7373,  7392,  7395,\n",
       "         7436,  7454,  7493,  8434,  8479,  8582,  8866,  9084,  9222,\n",
       "         9477, 10082, 10233, 10537, 10950, 10962, 10990, 11066, 11107,\n",
       "        11112, 11117], dtype=int64),)"
      ]
     },
     "execution_count": 30,
     "metadata": {},
     "output_type": "execute_result"
    }
   ],
   "source": [
    "np.where(kmeans.labels_ == 0)"
   ]
  },
  {
   "cell_type": "code",
   "execution_count": 39,
   "metadata": {},
   "outputs": [],
   "source": [
    "def compute_purity(data_set, labels_set):\n",
    "    labels = kmeans.predict(data_set)\n",
    "    count = 0\n",
    "    for clusIdx in range(kmeans.n_clusters):\n",
    "        indices = np.where(labels == clusIdx)[0]\n",
    "        members_labels = [labels_set[i] for i in indices]\n",
    "        count_max_label = max([members_labels.count(label) for label in range(kmeans.n_clusters)])\n",
    "        count += count_max_label\n",
    "    return count * 1. / data_set.shape[0]"
   ]
  },
  {
   "cell_type": "code",
   "execution_count": 43,
   "metadata": {},
   "outputs": [
    {
     "name": "stdout",
     "output_type": "stream",
     "text": [
      "purity of training set:  0.38456779211596254\n",
      "purity of tesing set:  0.3462559745087626\n",
      "-------------------\n"
     ]
    }
   ],
   "source": [
    "print(\"purity of training set: \", compute_purity(X_train_mat, Y_train))\n",
    "print(\"purity of tesing set: \", compute_purity(X_test_mat, Y_test))\n",
    "print(\"-------------------\")"
   ]
  },
  {
   "cell_type": "code",
   "execution_count": 47,
   "metadata": {},
   "outputs": [
    {
     "name": "stdout",
     "output_type": "stream",
     "text": [
      "purity of training set:  0.42389959342407635\n",
      "purity of tesing set:  0.36537440254912373\n",
      "-------------------\n"
     ]
    }
   ],
   "source": [
    "print(\"purity of training set: \", compute_purity(X_train_mat, Y_train))\n",
    "print(\"purity of tesing set: \", compute_purity(X_test_mat, Y_test))\n",
    "print(\"-------------------\")"
   ]
  }
 ],
 "metadata": {
  "kernelspec": {
   "display_name": "Python 3",
   "language": "python",
   "name": "python3"
  },
  "language_info": {
   "codemirror_mode": {
    "name": "ipython",
    "version": 3
   },
   "file_extension": ".py",
   "mimetype": "text/x-python",
   "name": "python",
   "nbconvert_exporter": "python",
   "pygments_lexer": "ipython3",
   "version": "3.7.6"
  }
 },
 "nbformat": 4,
 "nbformat_minor": 4
}
