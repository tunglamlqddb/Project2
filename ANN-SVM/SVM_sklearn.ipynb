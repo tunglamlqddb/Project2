{
 "cells": [
  {
   "cell_type": "code",
   "execution_count": 1,
   "metadata": {},
   "outputs": [],
   "source": [
    "import numpy as np\n",
    "from collections import defaultdict"
   ]
  },
  {
   "cell_type": "code",
   "execution_count": 2,
   "metadata": {},
   "outputs": [],
   "source": [
    "def get_data(data_path):\n",
    "    with open(data_path, 'r') as f:\n",
    "        lines = f.read().splitlines()\n",
    "    X = []\n",
    "    Y = []\n",
    "    for line in lines:    # one doc\n",
    "        single_dict = defaultdict(lambda:0)\n",
    "        raw_X = line.split('<fff>')[-1]\n",
    "        for pair in raw_X.split():\n",
    "            idx = pair.split(':')[0]\n",
    "            value = pair.split(':')[1]\n",
    "            single_dict[int(idx)] = float(value)\n",
    "            \n",
    "        X.append(single_dict)\n",
    "        Y.append(float(line.split('<fff>')[0]))\n",
    "    return X, Y"
   ]
  },
  {
   "cell_type": "code",
   "execution_count": 3,
   "metadata": {},
   "outputs": [],
   "source": [
    "X_train, Y_train = get_data(\"D:\\\\movedFromC\\\\123\\\\20192\\\\PRJ2\\\\Project2\\\\words_tfidfs.txt\")"
   ]
  },
  {
   "cell_type": "code",
   "execution_count": 4,
   "metadata": {},
   "outputs": [],
   "source": [
    "X_test, Y_test = get_data(\"D:\\\\movedFromC\\\\123\\\\20192\\\\PRJ2\\\\Project2\\\\words_tfidfs_test.txt\")"
   ]
  },
  {
   "cell_type": "code",
   "execution_count": 5,
   "metadata": {},
   "outputs": [],
   "source": [
    "import scipy.sparse as sp\n",
    "\n",
    "# incrementally create doc sparse matrix for X_train => convert it to csr sparse matrix\n",
    "def convert_to_csr(X_dict, num_of_features):\n",
    "    X_mat = sp.dok_matrix((len(X_dict), num_of_features), dtype=np.float)\n",
    "    for i in range(len(X_dict)):\n",
    "        for key in X_dict[i].keys():\n",
    "            X_mat[i, key] = X_dict[i][key]\n",
    "    X_mat = X_mat.tocsr()\n",
    "\n",
    "    return X_mat"
   ]
  },
  {
   "cell_type": "code",
   "execution_count": 6,
   "metadata": {},
   "outputs": [],
   "source": [
    "X_train_mat = convert_to_csr(X_train, 10272)\n",
    "X_test_mat = convert_to_csr(X_test, 10272)"
   ]
  },
  {
   "cell_type": "code",
   "execution_count": 9,
   "metadata": {},
   "outputs": [],
   "source": [
    "import time\n",
    "\n",
    "def compute_accuracy(prediction, ground_truth):\n",
    "    matches = np.equal(prediction, ground_truth)\n",
    "    accuracy = np.sum(matches.astype(float)) / len(ground_truth)\n",
    "    return accuracy"
   ]
  },
  {
   "cell_type": "code",
   "execution_count": 12,
   "metadata": {
    "scrolled": true
   },
   "outputs": [
    {
     "name": "stdout",
     "output_type": "stream",
     "text": [
      "C = 0.001\n",
      "Better, acc: 0.7600902814657462\n",
      "C = 0.01\n",
      "Better, acc: 0.7980616038236856\n",
      "C = 0.1\n",
      "Better, acc: 0.8291290493892725\n",
      "C = 1\n",
      "Better, acc: 0.8312533191715348\n",
      "C = 10\n",
      "C = 100\n",
      "-------\n",
      "1\n",
      "0.8312533191715348\n",
      "time:1.0875484943389893\n"
     ]
    }
   ],
   "source": [
    "from sklearn.svm import LinearSVC\n",
    "\n",
    "\n",
    "C_range_linear = [0.001, 0.01, 0.1, 1, 10, 100]\n",
    "acc_max_linear = 0\n",
    "cb_linear = 0\n",
    "total_time_linear = 0\n",
    "\n",
    "for c in C_range_linear:\n",
    "    print('C = ' + str(c))\n",
    "    classifier = LinearSVC(C=c)\n",
    "    time_start = time.time()\n",
    "    classifier.fit(X_train_mat, Y_train)\n",
    "    prediction = classifier.predict(X_test_mat)\n",
    "    time_end = time.time()\n",
    "    accuracy = compute_accuracy(prediction, Y_test)\n",
    "    \n",
    "    if accuracy > acc_max_linear:\n",
    "        acc_max_linear = accuracy\n",
    "        cb_linear = c\n",
    "        print('Better, acc: ' + str(accuracy))\n",
    "        total_time_linear = time_end - time_start\n",
    "   \n",
    "print('-------')\n",
    "print(cb_linear)\n",
    "print(acc_max_linear)\n",
    "print('time:' + str(total_time_linear))"
   ]
  },
  {
   "cell_type": "code",
   "execution_count": null,
   "metadata": {},
   "outputs": [
    {
     "name": "stdout",
     "output_type": "stream",
     "text": [
      "rbf C = 0.001\n",
      "Better, acc: 0.05297397769516728\n",
      "rbf C = 0.01\n",
      "rbf C = 0.1\n",
      "Better, acc: 0.48632501327668615\n",
      "rbf C = 1\n",
      "Better, acc: 0.8173127987254382\n",
      "rbf C = 10\n",
      "Better, acc: 0.8211630377057887\n",
      "rbf C = 100\n",
      "poly C = 0.001\n",
      "poly C = 0.01\n",
      "poly C = 0.1\n",
      "poly C = 1\n",
      "poly C = 10\n"
     ]
    }
   ],
   "source": [
    "from sklearn.svm import SVC\n",
    "\n",
    "\n",
    "# finetune on hyperparameters C and Kernel \n",
    "C_range = [0.001, 0.01, 0.1, 1, 10, 100]\n",
    "kernel_range = ['rbf','poly','sigmoid','linear']\n",
    "acc_max=0\n",
    "kb = 'x' \n",
    "cb = 0\n",
    "total_time = 0\n",
    "\n",
    "for ker in kernel_range:\n",
    "    for c in C_range:\n",
    "        print(str(ker) + ' C = ' + str(c))\n",
    "        svc = SVC(kernel=ker, C=c)\n",
    "        time_start = time.time()\n",
    "        svc.fit(X_train_mat, Y_train)\n",
    "        Y_pred = svc.predict(X_test_mat)\n",
    "        time_end = time.time()\n",
    "        acc = compute_accuracy(Y_pred, Y_test)\n",
    "        \n",
    "        if acc > acc_max:\n",
    "            acc_max = acc\n",
    "            cb = c\n",
    "            kb = ker\n",
    "            print('Better, acc: ' + str(acc_max))\n",
    "            total_time = time_end - time_start\n",
    "            \n",
    "print('Best kernel SVM:' + str(kb) + ' C = ' + str(cb))\n",
    "print('Time: ' + str(total_time))        \n",
    "\n",
    "\n"
   ]
  }
 ],
 "metadata": {
  "kernelspec": {
   "display_name": "Python 3",
   "language": "python",
   "name": "python3"
  },
  "language_info": {
   "codemirror_mode": {
    "name": "ipython",
    "version": 3
   },
   "file_extension": ".py",
   "mimetype": "text/x-python",
   "name": "python",
   "nbconvert_exporter": "python",
   "pygments_lexer": "ipython3",
   "version": "3.7.6"
  }
 },
 "nbformat": 4,
 "nbformat_minor": 4
}
